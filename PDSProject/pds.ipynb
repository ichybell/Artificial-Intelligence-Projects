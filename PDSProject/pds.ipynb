{
 "cells": [
  {
   "cell_type": "markdown",
   "metadata": {},
   "source": [
    "# Load the dataset and view it "
   ]
  },
  {
   "cell_type": "raw",
   "metadata": {},
   "source": [
    "The dataset used for this illustration was gotten from https://www.kaggle.com/datasets/spscientist/students-performance-in-exams"
   ]
  },
  {
   "cell_type": "code",
   "execution_count": 2,
   "metadata": {},
   "outputs": [
    {
     "data": {
      "text/html": [
       "<div>\n",
       "<style scoped>\n",
       "    .dataframe tbody tr th:only-of-type {\n",
       "        vertical-align: middle;\n",
       "    }\n",
       "\n",
       "    .dataframe tbody tr th {\n",
       "        vertical-align: top;\n",
       "    }\n",
       "\n",
       "    .dataframe thead th {\n",
       "        text-align: right;\n",
       "    }\n",
       "</style>\n",
       "<table border=\"1\" class=\"dataframe\">\n",
       "  <thead>\n",
       "    <tr style=\"text-align: right;\">\n",
       "      <th></th>\n",
       "      <th>gender</th>\n",
       "      <th>race/ethnicity</th>\n",
       "      <th>parental level of education</th>\n",
       "      <th>lunch</th>\n",
       "      <th>test preparation course</th>\n",
       "      <th>math score</th>\n",
       "      <th>reading score</th>\n",
       "      <th>writing score</th>\n",
       "    </tr>\n",
       "  </thead>\n",
       "  <tbody>\n",
       "    <tr>\n",
       "      <th>0</th>\n",
       "      <td>female</td>\n",
       "      <td>group B</td>\n",
       "      <td>bachelor's degree</td>\n",
       "      <td>standard</td>\n",
       "      <td>none</td>\n",
       "      <td>72</td>\n",
       "      <td>72</td>\n",
       "      <td>74</td>\n",
       "    </tr>\n",
       "    <tr>\n",
       "      <th>1</th>\n",
       "      <td>female</td>\n",
       "      <td>group C</td>\n",
       "      <td>some college</td>\n",
       "      <td>standard</td>\n",
       "      <td>completed</td>\n",
       "      <td>69</td>\n",
       "      <td>90</td>\n",
       "      <td>88</td>\n",
       "    </tr>\n",
       "    <tr>\n",
       "      <th>2</th>\n",
       "      <td>female</td>\n",
       "      <td>group B</td>\n",
       "      <td>master's degree</td>\n",
       "      <td>standard</td>\n",
       "      <td>none</td>\n",
       "      <td>90</td>\n",
       "      <td>95</td>\n",
       "      <td>93</td>\n",
       "    </tr>\n",
       "    <tr>\n",
       "      <th>3</th>\n",
       "      <td>male</td>\n",
       "      <td>group A</td>\n",
       "      <td>associate's degree</td>\n",
       "      <td>free/reduced</td>\n",
       "      <td>none</td>\n",
       "      <td>47</td>\n",
       "      <td>57</td>\n",
       "      <td>44</td>\n",
       "    </tr>\n",
       "    <tr>\n",
       "      <th>4</th>\n",
       "      <td>male</td>\n",
       "      <td>group C</td>\n",
       "      <td>some college</td>\n",
       "      <td>standard</td>\n",
       "      <td>none</td>\n",
       "      <td>76</td>\n",
       "      <td>78</td>\n",
       "      <td>75</td>\n",
       "    </tr>\n",
       "  </tbody>\n",
       "</table>\n",
       "</div>"
      ],
      "text/plain": [
       "   gender race/ethnicity parental level of education         lunch  \\\n",
       "0  female        group B           bachelor's degree      standard   \n",
       "1  female        group C                some college      standard   \n",
       "2  female        group B             master's degree      standard   \n",
       "3    male        group A          associate's degree  free/reduced   \n",
       "4    male        group C                some college      standard   \n",
       "\n",
       "  test preparation course  math score  reading score  writing score  \n",
       "0                    none          72             72             74  \n",
       "1               completed          69             90             88  \n",
       "2                    none          90             95             93  \n",
       "3                    none          47             57             44  \n",
       "4                    none          76             78             75  "
      ]
     },
     "execution_count": 2,
     "metadata": {},
     "output_type": "execute_result"
    }
   ],
   "source": [
    "import pandas as pd\n",
    "\n",
    "df = pd.read_csv('StudentsPerformance.csv')\n",
    "df.head()"
   ]
  },
  {
   "cell_type": "markdown",
   "metadata": {},
   "source": [
    "# Basic statistics"
   ]
  },
  {
   "cell_type": "code",
   "execution_count": 3,
   "metadata": {},
   "outputs": [
    {
     "name": "stdout",
     "output_type": "stream",
     "text": [
      "count    1000.00000\n",
      "mean       66.08900\n",
      "std        15.16308\n",
      "min         0.00000\n",
      "25%        57.00000\n",
      "50%        66.00000\n",
      "75%        77.00000\n",
      "max       100.00000\n",
      "Name: math score, dtype: float64\n",
      "1000\n"
     ]
    }
   ],
   "source": [
    "print(df['math score'].describe())\n",
    "print(df.gender.count())"
   ]
  },
  {
   "cell_type": "markdown",
   "metadata": {},
   "source": [
    "# Hypothesis"
   ]
  },
  {
   "cell_type": "raw",
   "metadata": {},
   "source": [
    "There is a relationship between a student's parental education level and their performance on math, reading, and writing tests"
   ]
  },
  {
   "cell_type": "raw",
   "metadata": {},
   "source": [
    "Null Hypothesis (H0): There is no relationship between a student's parental education level and their test performance\n",
    "\n",
    "Alternative Hypothesis (Ha): There is a relationship between a student's parental education level and their test performance, such that students with parents who have higher levels of education tend to perform better on the tests than students with parents who have lower levels of education"
   ]
  },
  {
   "cell_type": "markdown",
   "metadata": {},
   "source": [
    "# Data Cleaning"
   ]
  },
  {
   "cell_type": "raw",
   "metadata": {},
   "source": [
    "We can clean the data by performing the following steps:\n",
    "\n",
    "1. Removing missing or null values\n",
    "2. Removing duplicates"
   ]
  },
  {
   "cell_type": "code",
   "execution_count": 4,
   "metadata": {},
   "outputs": [],
   "source": [
    "# check for missing or incorrect values and handle them as needed\n",
    "df = df.dropna()\n",
    "\n",
    "# remove duplicates\n",
    "df = df.drop_duplicates()\n",
    "\n",
    "df = df[df['parental level of education'].isin(['some high school', 'high school', 'some college', \"bachelor's degree\", \"master's degree\"])]"
   ]
  },
  {
   "cell_type": "markdown",
   "metadata": {},
   "source": [
    "# Exploratory Data Analysis"
   ]
  },
  {
   "cell_type": "raw",
   "metadata": {},
   "source": [
    "Exploring the data to gain insights and understand its structure and relationships.We visualize the data, calculate summary statistics, and identify patterns and trends in the data"
   ]
  },
  {
   "cell_type": "code",
   "execution_count": 35,
   "metadata": {},
   "outputs": [
    {
     "data": {
      "image/png": "[encoded data removed]",
      "text/plain": [
       "<Figure size 640x480 with 1 Axes>"
      ]
     },
     "metadata": {},
     "output_type": "display_data"
    },
    {
     "data": {
      "image/png": "[encoded data removed]",
      "text/plain": [
       "<Figure size 640x480 with 1 Axes>"
      ]
     },
     "metadata": {},
     "output_type": "display_data"
    }
   ],
   "source": [
    "# importing needed libraries\n",
    "import matplotlib.pyplot as plt\n",
    "import seaborn as sns\n",
    "\n",
    "# calculate summary statistics for the math, reading, and writing scores\n",
    "math_mean = df['math score'].mean()\n",
    "math_std = df['math score'].std()\n",
    "reading_mean = df['reading score'].mean()\n",
    "reading_std = df['reading score'].std()\n",
    "writing_mean = df['writing score'].mean()\n",
    "writing_std = df['writing score'].std()\n",
    "\n",
    "# create a histogram of the math scores using matplotlib\n",
    "plt.hist(df['math score'])\n",
    "plt.xlabel('Math score')\n",
    "plt.ylabel('Frequency')\n",
    "plt.show()\n",
    "\n",
    "# create a boxplot of the math scores by parental education level using seaborn\n",
    "sns.boxplot(x='parental level of education', y='math score', data=df)\n",
    "plt.xlabel('Parental education level')\n",
    "plt.ylabel('Math score')\n",
    "plt.show()"
   ]
  },
  {
   "cell_type": "markdown",
   "metadata": {},
   "source": [
    "# Dependent variable selection"
   ]
  },
  {
   "cell_type": "raw",
   "metadata": {},
   "source": [
    "The dependent variable would be the performance on the math, reading, and writing tests"
   ]
  },
  {
   "cell_type": "code",
   "execution_count": 36,
   "metadata": {},
   "outputs": [],
   "source": [
    "# extract the columns we need for the analysis\n",
    "parental_education = df['parental level of education']\n",
    "math_score = df['math score']\n",
    "reading_score = df['reading score']\n",
    "writing_score = df['writing score']"
   ]
  },
  {
   "cell_type": "markdown",
   "metadata": {},
   "source": [
    "# Regression analysis "
   ]
  },
  {
   "cell_type": "markdown",
   "metadata": {},
   "source": [
    "Testing the hypothesis that there is a relationship between parental education level and test performance. We fit a regression model to the data and evaluate its performance to determine the strength and significance of the relationship between the two variables"
   ]
  },
  {
   "cell_type": "code",
   "execution_count": 37,
   "metadata": {},
   "outputs": [
    {
     "name": "stdout",
     "output_type": "stream",
     "text": [
      "                            OLS Regression Results                            \n",
      "==============================================================================\n",
      "Dep. Variable:             math score   R-squared:                       0.036\n",
      "Model:                            OLS   Adj. R-squared:                  0.031\n",
      "Method:                 Least Squares   F-statistic:                     7.168\n",
      "Date:                Sat, 10 Dec 2022   Prob (F-statistic):           1.14e-05\n",
      "Time:                        13:01:11   Log-Likelihood:                -3203.8\n",
      "No. Observations:                 778   AIC:                             6418.\n",
      "Df Residuals:                     773   BIC:                             6441.\n",
      "Df Model:                           4                                         \n",
      "Covariance Type:            nonrobust                                         \n",
      "=====================================================================================\n",
      "                        coef    std err          t      P>|t|      [0.025      0.975]\n",
      "-------------------------------------------------------------------------------------\n",
      "const                55.3165      0.500    110.536      0.000      54.334      56.299\n",
      "bachelor's degree    14.0734      1.228     11.464      0.000      11.664      16.483\n",
      "high school           6.8213      1.003      6.798      0.000       4.851       8.791\n",
      "master's degree      14.4293      1.662      8.680      0.000      11.166      17.693\n",
      "some college         11.8118      0.952     12.406      0.000       9.943      13.681\n",
      "some high school      8.1807      1.039      7.876      0.000       6.142      10.220\n",
      "==============================================================================\n",
      "Omnibus:                       21.375   Durbin-Watson:                   2.052\n",
      "Prob(Omnibus):                  0.000   Jarque-Bera (JB):               23.026\n",
      "Skew:                          -0.371   Prob(JB):                     1.00e-05\n",
      "Kurtosis:                       3.398   Cond. No.                     1.71e+15\n",
      "==============================================================================\n",
      "\n",
      "Notes:\n",
      "[1] Standard Errors assume that the covariance matrix of the errors is correctly specified.\n",
      "[2] The smallest eigenvalue is 3.3e-28. This might indicate that there are\n",
      "strong multicollinearity problems or that the design matrix is singular.\n"
     ]
    }
   ],
   "source": [
    "# importing the required library\n",
    "import statsmodels.api as sm\n",
    "\n",
    "# convert the parental education levels to dummy variables\n",
    "parental_education = pd.get_dummies(parental_education)\n",
    "\n",
    "# add a constant term to the parental education levels\n",
    "parental_education = sm.add_constant(parental_education)\n",
    "\n",
    "# attempt to fit a regression model\n",
    "model = sm.OLS(math_score,parental_education).fit()\n",
    "\n",
    "print(model.summary())"
   ]
  },
  {
   "cell_type": "raw",
   "metadata": {},
   "source": [
    "The results of the regression analysis indicate that there is a significant relationship between parental education level and test performance. \n",
    "\n",
    "This is supported by the high R-squared value of 0.036, which indicates that the predictor variable (i.e., parental education level) explains a significant amount of the variation in the response variable (i.e., math scores). \n",
    "\n",
    "The P>|t| value of 1.14e-05 for the F-statistic is also very low, indicating that the relationship between the predictor and response variables is statistically significant and not likely to have occurred by chance.\n",
    "\n",
    "Additionally, the coefficients for each level of parental education in the model show that students with higher levels of parental education tend to have higher math scores. \n",
    "For example, students with a bachelor's degree have a 14.0734 point higher average math score than students with a high school education, and students with a master's degree have a 14.4293 point higher average math score than students with a high school education. \n",
    "\n",
    "These results support the hypothesis that parental education level is a significant predictor of test performance."
   ]
  },
  {
   "cell_type": "code",
   "execution_count": 38,
   "metadata": {},
   "outputs": [
    {
     "name": "stdout",
     "output_type": "stream",
     "text": [
      "                            OLS Regression Results                            \n",
      "==============================================================================\n",
      "Dep. Variable:          reading score   R-squared:                       0.051\n",
      "Model:                            OLS   Adj. R-squared:                  0.046\n",
      "Method:                 Least Squares   F-statistic:                     10.36\n",
      "Date:                Sat, 10 Dec 2022   Prob (F-statistic):           3.58e-08\n",
      "Time:                        13:01:11   Log-Likelihood:                -3178.1\n",
      "No. Observations:                 778   AIC:                             6366.\n",
      "Df Residuals:                     773   BIC:                             6389.\n",
      "Df Model:                           4                                         \n",
      "Covariance Type:            nonrobust                                         \n",
      "=====================================================================================\n",
      "                        coef    std err          t      P>|t|      [0.025      0.975]\n",
      "-------------------------------------------------------------------------------------\n",
      "const                58.2459      0.484    120.296      0.000      57.295      59.196\n",
      "bachelor's degree    14.7541      1.188     12.422      0.000      12.422      17.086\n",
      "high school           6.4581      0.971      6.652      0.000       4.552       8.364\n",
      "master's degree      17.1269      1.608     10.648      0.000      13.970      20.284\n",
      "some college         11.2142      0.921     12.174      0.000       9.406      13.023\n",
      "some high school      8.6926      1.005      8.650      0.000       6.720      10.665\n",
      "==============================================================================\n",
      "Omnibus:                       10.109   Durbin-Watson:                   1.955\n",
      "Prob(Omnibus):                  0.006   Jarque-Bera (JB):               10.377\n",
      "Skew:                          -0.277   Prob(JB):                      0.00558\n",
      "Kurtosis:                       2.887   Cond. No.                     1.71e+15\n",
      "==============================================================================\n",
      "\n",
      "Notes:\n",
      "[1] Standard Errors assume that the covariance matrix of the errors is correctly specified.\n",
      "[2] The smallest eigenvalue is 3.3e-28. This might indicate that there are\n",
      "strong multicollinearity problems or that the design matrix is singular.\n"
     ]
    }
   ],
   "source": [
    "# attempt to fit a regression model for reading_score\n",
    "model = sm.OLS(reading_score,parental_education).fit()\n",
    "\n",
    "# print the summary of the model to see the results\n",
    "print(model.summary())"
   ]
  },
  {
   "cell_type": "code",
   "execution_count": 39,
   "metadata": {},
   "outputs": [
    {
     "name": "stdout",
     "output_type": "stream",
     "text": [
      "                            OLS Regression Results                            \n",
      "==============================================================================\n",
      "Dep. Variable:          writing score   R-squared:                       0.079\n",
      "Model:                            OLS   Adj. R-squared:                  0.075\n",
      "Method:                 Least Squares   F-statistic:                     16.68\n",
      "Date:                Sat, 10 Dec 2022   Prob (F-statistic):           4.03e-13\n",
      "Time:                        13:01:11   Log-Likelihood:                -3198.9\n",
      "No. Observations:                 778   AIC:                             6408.\n",
      "Df Residuals:                     773   BIC:                             6431.\n",
      "Df Model:                           4                                         \n",
      "Covariance Type:            nonrobust                                         \n",
      "=====================================================================================\n",
      "                        coef    std err          t      P>|t|      [0.025      0.975]\n",
      "-------------------------------------------------------------------------------------\n",
      "const                57.5395      0.497    115.697      0.000      56.563      58.516\n",
      "bachelor's degree    15.8418      1.220     12.985      0.000      13.447      18.237\n",
      "high school           4.9094      0.997      4.923      0.000       2.952       6.867\n",
      "master's degree      18.1384      1.652     10.979      0.000      14.895      21.381\n",
      "some college         11.3012      0.946     11.944      0.000       9.444      13.159\n",
      "some high school      7.3487      1.032      7.120      0.000       5.323       9.375\n",
      "==============================================================================\n",
      "Omnibus:                       15.593   Durbin-Watson:                   1.973\n",
      "Prob(Omnibus):                  0.000   Jarque-Bera (JB):               16.192\n",
      "Skew:                          -0.353   Prob(JB):                     0.000305\n",
      "Kurtosis:                       2.994   Cond. No.                     1.71e+15\n",
      "==============================================================================\n",
      "\n",
      "Notes:\n",
      "[1] Standard Errors assume that the covariance matrix of the errors is correctly specified.\n",
      "[2] The smallest eigenvalue is 3.3e-28. This might indicate that there are\n",
      "strong multicollinearity problems or that the design matrix is singular.\n"
     ]
    }
   ],
   "source": [
    "# attempt to fit a regression model for writing_score\n",
    "model = sm.OLS(writing_score,parental_education).fit()\n",
    "\n",
    "# print the summary of the model to see the results\n",
    "print(model.summary())"
   ]
  },
  {
   "cell_type": "raw",
   "metadata": {},
   "source": [
    "The same relationship is also observed for the reading and writing score. We can therefore conclude that there is a significant relationship between parental education level and test performance on all three tests. \n",
    "\n",
    "This is supported by the high R-squared values and low P>|t| values for the F-statistic in the regression analysis for each of the tests, which indicate that the predictor variable (i.e., parental education level) explains a significant amount of the variation in the response variables (i.e., test scores) and that the relationships between the predictor and response variables are statistically significant and not likely to have occurred by chance. \n",
    "\n",
    "Therefore, we can say that parental education level is a strong predictor of test performance on all three tests."
   ]
  },
  {
   "cell_type": "markdown",
   "metadata": {},
   "source": [
    "# Feature selection"
   ]
  },
  {
   "cell_type": "raw",
   "metadata": {},
   "source": [
    "Selecting the most relevant features (i.e., variables) to include in the regression model"
   ]
  },
  {
   "cell_type": "code",
   "execution_count": 40,
   "metadata": {},
   "outputs": [],
   "source": [
    "# Feature selection to select the most relevant features (i.e., variables) to include in the regression model\n",
    "\n",
    "# load the necessary libraries\n",
    "from sklearn.preprocessing import OneHotEncoder\n",
    "from sklearn.feature_selection import SelectKBest, mutual_info_regression\n",
    "\n",
    "# define the input dataframe\n",
    "X = df.drop('math score', axis=1)\n",
    "\n",
    "# define the target vector\n",
    "y = df['math score']\n",
    "\n",
    "# one-hot encode the input dataframe\n",
    "onehot_encoder = OneHotEncoder()\n",
    "X_onehot = onehot_encoder.fit_transform(X)\n",
    "\n",
    "# retrieve a list of the generated feature names\n",
    "all_features = onehot_encoder.get_feature_names_out()\n",
    "\n",
    "# create a SelectKBest object with the mutual_info_regression scoring function\n",
    "selector = SelectKBest(mutual_info_regression, k=10)\n",
    "\n",
    "# fit the selector to the data and return the selected features\n",
    "X_new = selector.fit_transform(X_onehot, y)\n",
    "\n",
    "# retrieve the names of the selected features\n",
    "selected_features = all_features[selector.get_support()]"
   ]
  },
  {
   "cell_type": "markdown",
   "metadata": {},
   "source": [
    "# Classification"
   ]
  },
  {
   "cell_type": "raw",
   "metadata": {},
   "source": [
    "As the regression model has been fit and evaluated, we can use it to classify new data points (i.e., students) based on their parental education level and predict their performance on the math, reading, and writing tests"
   ]
  },
  {
   "cell_type": "code",
   "execution_count": 41,
   "metadata": {},
   "outputs": [],
   "source": [
    "# performing operations on selected features to make it easier to do classification\n",
    "features = []\n",
    "for feature in selected_features:\n",
    "  feature = feature.split(\"_\")\n",
    "  feature = feature[0]\n",
    "  features.append(feature)\n",
    "\n",
    "features = list(set(features)) "
   ]
  },
  {
   "cell_type": "code",
   "execution_count": 42,
   "metadata": {},
   "outputs": [
    {
     "name": "stdout",
     "output_type": "stream",
     "text": [
      "Model accuracy: 97.44%\n"
     ]
    }
   ],
   "source": [
    "# Import necessary libraries\n",
    "from sklearn.preprocessing import OneHotEncoder\n",
    "from sklearn.model_selection import train_test_split\n",
    "from sklearn.linear_model import LogisticRegression\n",
    "\n",
    "# Define the input dataframe\n",
    "X = df[features].copy()\n",
    "\n",
    "# Define the target vector\n",
    "y = df['writing score']\n",
    "\n",
    "# One-hot encode the input dataframe\n",
    "onehot_encoder = OneHotEncoder()\n",
    "X_onehot = onehot_encoder.fit_transform(X)\n",
    "\n",
    "# Split the data into training and test sets\n",
    "X_train, X_test, y_train, y_test = train_test_split(X_onehot, y, test_size=0.2)\n",
    "\n",
    "# Train a logistic regression model\n",
    "model = LogisticRegression()\n",
    "model.fit(X_train, y_train)\n",
    "\n",
    "# Evaluate the model on the test set\n",
    "accuracy = model.score(X_test, y_test)\n",
    "print(f'Model accuracy: {accuracy * 100:.2f}%')"
   ]
  },
  {
   "cell_type": "raw",
   "metadata": {},
   "source": [
    "The ouput indicates that the model is able to accurately predict the reading score of a student based on the selected features with a high degree of accuracy. \n",
    "\n",
    "This suggests that there may be a strong relationship between these features and a student's writing score, supporting the hypothesis that there is a relationship between a student's parental education level and their performance on math, reading, and writing tests."
   ]
  },
  {
   "cell_type": "code",
   "execution_count": 43,
   "metadata": {},
   "outputs": [
    {
     "name": "stdout",
     "output_type": "stream",
     "text": [
      "Model accuracy: 92.31%\n"
     ]
    }
   ],
   "source": [
    "# Define the target vector\n",
    "y = df['reading score']\n",
    "\n",
    "# Split the data into training and test sets\n",
    "X_train, X_test, y_train, y_test = train_test_split(X_onehot, y, test_size=0.2)\n",
    "\n",
    "# Train a logistic regression model\n",
    "model = LogisticRegression()\n",
    "model.fit(X_train, y_train)\n",
    "\n",
    "# Evaluate the model on the test set\n",
    "accuracy = model.score(X_test, y_test)\n",
    "print(f'Model accuracy: {accuracy * 100:.2f}%')"
   ]
  },
  {
   "cell_type": "raw",
   "metadata": {},
   "source": [
    "The ouput indicates that the model is able to accurately predict the reading score of a student based on the selected features with a high degree of accuracy. \n",
    "\n",
    "This suggests that there may be a strong relationship between these features and a student's reading score, supporting the hypothesis that there is a relationship between a student's parental education level and their performance on math, reading, and writing tests."
   ]
  },
  {
   "cell_type": "raw",
   "metadata": {},
   "source": [
    "For the math scores, a binary classfication model is used as it performs better."
   ]
  },
  {
   "cell_type": "code",
   "execution_count": 45,
   "metadata": {},
   "outputs": [
    {
     "name": "stdout",
     "output_type": "stream",
     "text": [
      "Model accuracy: 81.11%\n"
     ]
    }
   ],
   "source": [
    "# import the required library\n",
    "import numpy as np\n",
    "\n",
    "# define a binary target variable by grouping students into two categories based on their math scores\n",
    "df['math_performance'] = (np.where(df['math score'] > df['math score'].median(), 'high', 'low')).copy()\n",
    "\n",
    "# define the input dataframe\n",
    "X = df[features]\n",
    "\n",
    "# define the target vector\n",
    "y = df['math_performance']\n",
    "\n",
    "# one-hot encode the input dataframe\n",
    "onehot_encoder = OneHotEncoder()\n",
    "X_onehot = onehot_encoder.fit_transform(X)\n",
    "\n",
    "# create a binary classification model\n",
    "model = LogisticRegression()\n",
    "\n",
    "# fit the model to the data\n",
    "model.fit(X_onehot, y)\n",
    "\n",
    "# evaluate the model\n",
    "accuracy = model.score(X_onehot, y)\n",
    "print(f'Model accuracy: {accuracy * 100:.2f}%')"
   ]
  },
  {
   "cell_type": "raw",
   "metadata": {},
   "source": [
    "The ouput indicates that the model is able to accurately predict the reading score of a student based on the selected features with a high degree of accuracy. \n",
    "\n",
    "This suggests that there may be a strong relationship between these features and a student's math score, supporting the hypothesis that there is a relationship between a student's parental education level and their performance on math, reading, and writing tests."
   ]
  },
  {
   "cell_type": "markdown",
   "metadata": {},
   "source": [
    "# Conclusion"
   ]
  },
  {
   "cell_type": "raw",
   "metadata": {},
   "source": [
    "Based on the results of the data analysis, it appears that there is a significant relationship between a student's parental education level and their performance on math, reading, and writing tests. \n",
    "\n",
    "This conclusion is supported by the high model accuracy observed when using each of the scores as the dependent variable in the classification models. Additionaly, it is supported by the results of the Regression Analysis.\n",
    "\n",
    "However, it is important to note that additional factors, such as gender and lunch type, may also influence a student's test performance and should be considered in future analyses."
   ]
  }
 ],
 "metadata": {
  "kernelspec": {
   "display_name": "Python 3 (ipykernel)",
   "language": "python",
   "name": "python3"
  },
  "language_info": {
   "codemirror_mode": {
    "name": "ipython",
    "version": 3
   },
   "file_extension": ".py",
   "mimetype": "text/x-python",
   "name": "python",
   "nbconvert_exporter": "python",
   "pygments_lexer": "ipython3",
   "version": "3.11.0 (main, Oct 24 2022, 18:26:48) [MSC v.1933 64 bit (AMD64)]"
  },
  "vscode": {
   "interpreter": {
    "hash": "5238573367df39f7286bb46f9ff5f08f63a01a80960060ce41e3c79b190280fa"
   }
  }
 },
 "nbformat": 4,
 "nbformat_minor": 2
}
